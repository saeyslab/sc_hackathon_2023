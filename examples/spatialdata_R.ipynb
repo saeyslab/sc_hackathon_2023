{
 "cells": [
  {
   "cell_type": "markdown",
   "metadata": {},
   "source": [
    "More information at https://github.com/HelenaLC/SpatialData\n",
    "\n",
    "Needs rarr and R 4.3"
   ]
  },
  {
   "cell_type": "code",
   "execution_count": 1,
   "metadata": {
    "vscode": {
     "languageId": "r"
    }
   },
   "outputs": [
    {
     "name": "stderr",
     "output_type": "stream",
     "text": [
      "Bioconductor version '3.16' is out-of-date; the current release version '3.17'\n",
      "  is available with R version '4.3'; see https://bioconductor.org/install\n",
      "\n",
      "'getOption(\"repos\")' replaces Bioconductor standard repositories, see\n",
      "'help(\"repositories\", package = \"BiocManager\")' for details.\n",
      "Replacement repositories:\n",
      "    CRAN: https://cran.r-project.org\n",
      "\n",
      "Bioconductor version 3.16 (BiocManager 1.30.22), R 4.2.3 (2023-03-15)\n",
      "\n",
      "Installing github package(s) 'HelenaLC/SpatialData'\n",
      "\n",
      "Downloading GitHub repo HelenaLC/SpatialData@HEAD\n",
      "\n"
     ]
    },
    {
     "name": "stdout",
     "output_type": "stream",
     "text": [
      "stringi  (1.7.6  -> 1.7.12) [CRAN]\n",
      "basilisk (1.9.12 -> 1.10.2) [CRAN]\n",
      "arrow    (NA     -> 13.0.0) [CRAN]\n"
     ]
    },
    {
     "name": "stderr",
     "output_type": "stream",
     "text": [
      "Skipping 2 packages not available: S4Arrays, Rarr\n",
      "\n",
      "Installing 5 packages: stringi, basilisk, S4Arrays, Rarr, arrow\n",
      "\n",
      "Warning message:\n",
      "“packages ‘S4Arrays’, ‘Rarr’ are not available for this version of R\n",
      "\n",
      "Versions of these packages for your version of R might be available elsewhere,\n",
      "see the ideas at\n",
      "https://cran.r-project.org/doc/manuals/r-patched/R-admin.html#Installing-packages”\n",
      "Warning message in i.p(...):\n",
      "“installation of package ‘stringi’ had non-zero exit status”\n",
      "Warning message in i.p(...):\n",
      "“installation of package ‘arrow’ had non-zero exit status”\n",
      "Updating HTML index of packages in '.Library'\n",
      "\n",
      "Making 'packages.html' ...\n",
      " done\n",
      "\n"
     ]
    },
    {
     "name": "stdout",
     "output_type": "stream",
     "text": [
      "\u001b[36m──\u001b[39m \u001b[36mR CMD build\u001b[39m \u001b[36m─────────────────────────────────────────────────────────────────\u001b[39m\n",
      "* checking for file ‘/tmp/RtmpaB4XG6/remotes177b4ba3422c/HelenaLC-SpatialData-cd74cc7/DESCRIPTION’ ... OK\n",
      "* preparing ‘SpatialData’:\n",
      "* checking DESCRIPTION meta-information ... OK\n",
      "* checking for LF line-endings in source and make files and shell scripts\n",
      "* checking for empty or unneeded directories\n",
      "* building ‘SpatialData_0.99.0.tar.gz’\n",
      "\n"
     ]
    },
    {
     "name": "stderr",
     "output_type": "stream",
     "text": [
      "Warning message in i.p(...):\n",
      "“installation of package ‘/tmp/RtmpaB4XG6/file177b393664f6/SpatialData_0.99.0.tar.gz’ had non-zero exit status”\n",
      "Old packages: 'openssl', 'stringi'\n",
      "\n"
     ]
    }
   ],
   "source": [
    "if (!require(\"BiocManager\", quietly = TRUE))\n",
    "  install.packages(\"BiocManager\")\n",
    "\n",
    "if (!require(\"SpatialData\", quietly = TRUE))\n",
    "    BiocManager::install(\"HelenaLC/SpatialData\")"
   ]
  },
  {
   "cell_type": "code",
   "execution_count": 2,
   "metadata": {
    "vscode": {
     "languageId": "r"
    }
   },
   "outputs": [
    {
     "ename": "ERROR",
     "evalue": "Error in library(patchwork): there is no package called ‘patchwork’\n",
     "output_type": "error",
     "traceback": [
      "Error in library(patchwork): there is no package called ‘patchwork’\nTraceback:\n",
      "1. library(patchwork)"
     ]
    }
   ],
   "source": [
    "library(ggplot2)\n",
    "library(patchwork)\n",
    "library(SpatialData)\n",
    "library(SingleCellExperiment)"
   ]
  }
 ],
 "metadata": {
  "kernelspec": {
   "display_name": "R",
   "language": "R",
   "name": "ir"
  },
  "language_info": {
   "codemirror_mode": "r",
   "file_extension": ".r",
   "mimetype": "text/x-r-source",
   "name": "R",
   "pygments_lexer": "r",
   "version": "4.2.3"
  },
  "orig_nbformat": 4
 },
 "nbformat": 4,
 "nbformat_minor": 2
}
