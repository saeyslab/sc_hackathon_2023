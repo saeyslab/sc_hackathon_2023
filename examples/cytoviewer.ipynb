{
 "cells": [
  {
   "cell_type": "markdown",
   "metadata": {},
   "source": [
    "See https://bioconductor.org/packages/release/bioc/vignettes/cytoviewer/inst/doc/cytoviewer.html for more information.\n",
    "\n",
    "Installation can take >10min. Please be patient."
   ]
  },
  {
   "cell_type": "code",
   "execution_count": 1,
   "metadata": {
    "vscode": {
     "languageId": "r"
    }
   },
   "outputs": [
    {
     "name": "stderr",
     "output_type": "stream",
     "text": [
      "The legacy packages maptools, rgdal, and rgeos, underpinning the sp package,\n",
      "which was just loaded, will retire in October 2023.\n",
      "Please refer to R-spatial evolution reports for details, especially\n",
      "https://r-spatial.org/r/2023/05/15/evolution4.html.\n",
      "It may be desirable to make the sf package available;\n",
      "package maintainers should consider adding sf to Suggests:.\n",
      "The sp package is now running under evolution status 2\n",
      "     (status 2 uses the sf package in place of rgdal)\n",
      "\n"
     ]
    }
   ],
   "source": [
    "if (!requireNamespace(\"remotes\", quietly = TRUE))\n",
    "    install.packages(\"remotes\")\n",
    "\n",
    "if (!requireNamespace(\"cytoviewer\", quietly = TRUE))\n",
    "    remotes::install_github(\"BodenmillerGroup/cytoviewer\")"
   ]
  },
  {
   "cell_type": "code",
   "execution_count": 2,
   "metadata": {
    "vscode": {
     "languageId": "r"
    }
   },
   "outputs": [],
   "source": [
    "library(cytoviewer)"
   ]
  },
  {
   "cell_type": "code",
   "execution_count": 3,
   "metadata": {
    "vscode": {
     "languageId": "r"
    }
   },
   "outputs": [
    {
     "name": "stderr",
     "output_type": "stream",
     "text": [
      "Loading required package: EBImage\n",
      "\n",
      "Loading required package: SingleCellExperiment\n",
      "\n",
      "Loading required package: SummarizedExperiment\n",
      "\n",
      "Loading required package: MatrixGenerics\n",
      "\n",
      "Loading required package: matrixStats\n",
      "\n",
      "\n",
      "Attaching package: ‘MatrixGenerics’\n",
      "\n",
      "\n",
      "The following objects are masked from ‘package:matrixStats’:\n",
      "\n",
      "    colAlls, colAnyNAs, colAnys, colAvgsPerRowSet, colCollapse,\n",
      "    colCounts, colCummaxs, colCummins, colCumprods, colCumsums,\n",
      "    colDiffs, colIQRDiffs, colIQRs, colLogSumExps, colMadDiffs,\n",
      "    colMads, colMaxs, colMeans2, colMedians, colMins, colOrderStats,\n",
      "    colProds, colQuantiles, colRanges, colRanks, colSdDiffs, colSds,\n",
      "    colSums2, colTabulates, colVarDiffs, colVars, colWeightedMads,\n",
      "    colWeightedMeans, colWeightedMedians, colWeightedSds,\n",
      "    colWeightedVars, rowAlls, rowAnyNAs, rowAnys, rowAvgsPerColSet,\n",
      "    rowCollapse, rowCounts, rowCummaxs, rowCummins, rowCumprods,\n",
      "    rowCumsums, rowDiffs, rowIQRDiffs, rowIQRs, rowLogSumExps,\n",
      "    rowMadDiffs, rowMads, rowMaxs, rowMeans2, rowMedians, rowMins,\n",
      "    rowOrderStats, rowProds, rowQuantiles, rowRanges, rowRanks,\n",
      "    rowSdDiffs, rowSds, rowSums2, rowTabulates, rowVarDiffs, rowVars,\n",
      "    rowWeightedMads, rowWeightedMeans, rowWeightedMedians,\n",
      "    rowWeightedSds, rowWeightedVars\n",
      "\n",
      "\n",
      "Loading required package: GenomicRanges\n",
      "\n",
      "Loading required package: stats4\n",
      "\n",
      "Loading required package: BiocGenerics\n",
      "\n",
      "\n",
      "Attaching package: ‘BiocGenerics’\n",
      "\n",
      "\n",
      "The following objects are masked from ‘package:stats’:\n",
      "\n",
      "    IQR, mad, sd, var, xtabs\n",
      "\n",
      "\n",
      "The following objects are masked from ‘package:base’:\n",
      "\n",
      "    anyDuplicated, aperm, append, as.data.frame, basename, cbind,\n",
      "    colnames, dirname, do.call, duplicated, eval, evalq, Filter, Find,\n",
      "    get, grep, grepl, intersect, is.unsorted, lapply, Map, mapply,\n",
      "    match, mget, order, paste, pmax, pmax.int, pmin, pmin.int,\n",
      "    Position, rank, rbind, Reduce, rownames, sapply, setdiff, sort,\n",
      "    table, tapply, union, unique, unsplit, which.max, which.min\n",
      "\n",
      "\n",
      "Loading required package: S4Vectors\n",
      "\n",
      "\n",
      "Attaching package: ‘S4Vectors’\n",
      "\n",
      "\n",
      "The following objects are masked from ‘package:base’:\n",
      "\n",
      "    expand.grid, I, unname\n",
      "\n",
      "\n",
      "Loading required package: IRanges\n",
      "\n",
      "\n",
      "Attaching package: ‘IRanges’\n",
      "\n",
      "\n",
      "The following objects are masked from ‘package:EBImage’:\n",
      "\n",
      "    resize, tile\n",
      "\n",
      "\n",
      "Loading required package: GenomeInfoDb\n",
      "\n",
      "Loading required package: Biobase\n",
      "\n",
      "Welcome to Bioconductor\n",
      "\n",
      "    Vignettes contain introductory material; view with\n",
      "    'browseVignettes()'. To cite Bioconductor, see\n",
      "    'citation(\"Biobase\")', and for packages 'citation(\"pkgname\")'.\n",
      "\n",
      "\n",
      "\n",
      "Attaching package: ‘Biobase’\n",
      "\n",
      "\n",
      "The following object is masked from ‘package:MatrixGenerics’:\n",
      "\n",
      "    rowMedians\n",
      "\n",
      "\n",
      "The following objects are masked from ‘package:matrixStats’:\n",
      "\n",
      "    anyMissing, rowMedians\n",
      "\n",
      "\n",
      "The following object is masked from ‘package:EBImage’:\n",
      "\n",
      "    channel\n",
      "\n",
      "\n",
      "\n",
      "Attaching package: ‘cytomapper’\n",
      "\n",
      "\n",
      "The following objects are masked from ‘package:Biobase’:\n",
      "\n",
      "    channelNames, channelNames<-\n",
      "\n",
      "\n"
     ]
    },
    {
     "data": {
      "text/plain": [
       "CytoImageList containing 3 image(s)\n",
       "names(3): E34_imc G01_imc J02_imc \n",
       "Each image contains 5 channel(s)\n",
       "channelNames(5): H3 CD99 PIN CD8a CDH "
      ]
     },
     "metadata": {},
     "output_type": "display_data"
    }
   ],
   "source": [
    "# Load example datasets \n",
    "library(cytomapper)\n",
    "data(\"pancreasImages\")\n",
    "data(\"pancreasMasks\")\n",
    "data(\"pancreasSCE\")\n",
    "\n",
    "pancreasImages"
   ]
  },
  {
   "cell_type": "code",
   "execution_count": 4,
   "metadata": {
    "vscode": {
     "languageId": "r"
    }
   },
   "outputs": [
    {
     "data": {
      "text/plain": [
       "CytoImageList containing 3 image(s)\n",
       "names(3): E34_mask G01_mask J02_mask \n",
       "Each image contains 1 channel"
      ]
     },
     "metadata": {},
     "output_type": "display_data"
    }
   ],
   "source": [
    "pancreasMasks"
   ]
  },
  {
   "cell_type": "code",
   "execution_count": 5,
   "metadata": {
    "vscode": {
     "languageId": "r"
    }
   },
   "outputs": [
    {
     "data": {
      "text/plain": [
       "class: SingleCellExperiment \n",
       "dim: 5 362 \n",
       "metadata(0):\n",
       "assays(2): counts exprs\n",
       "rownames(5): H3 CD99 PIN CD8a CDH\n",
       "rowData names(4): MetalTag Target clean_Target frame\n",
       "colnames(362): E34_824 E34_835 ... J02_4190 J02_4209\n",
       "colData names(9): ImageName Pos_X ... MaskName Pattern\n",
       "reducedDimNames(0):\n",
       "mainExpName: NULL\n",
       "altExpNames(0):"
      ]
     },
     "metadata": {},
     "output_type": "display_data"
    }
   ],
   "source": [
    "pancreasSCE"
   ]
  },
  {
   "cell_type": "code",
   "execution_count": 6,
   "metadata": {
    "vscode": {
     "languageId": "r"
    }
   },
   "outputs": [],
   "source": [
    "# Use cytoviewer with images, masks and object\n",
    "app <- cytoviewer(image = pancreasImages, \n",
    "                  mask = pancreasMasks, \n",
    "                  object = pancreasSCE, \n",
    "                  img_id = \"ImageNb\", \n",
    "                  cell_id = \"CellNb\")\n",
    "\n",
    "# port forward in VS Studio Code remote session to open in a local browser\n",
    "# uncomment next line to run webapp indefinetly\n",
    "# shiny::runApp(app)"
   ]
  },
  {
   "cell_type": "code",
   "execution_count": 7,
   "metadata": {
    "vscode": {
     "languageId": "r"
    }
   },
   "outputs": [
    {
     "data": {
      "text/plain": [
       "R version 4.2.3 (2023-03-15)\n",
       "Platform: x86_64-conda-linux-gnu (64-bit)\n",
       "Running under: CentOS Linux 7 (Core)\n",
       "\n",
       "Matrix products: default\n",
       "BLAS/LAPACK: /srv/scratch/benjaminr/anaconda3/envs/ghent_hackathon_mixed/lib/libopenblasp-r0.3.24.so\n",
       "\n",
       "locale:\n",
       " [1] LC_CTYPE=en_US.UTF-8       LC_NUMERIC=C              \n",
       " [3] LC_TIME=en_US.UTF-8        LC_COLLATE=en_US.UTF-8    \n",
       " [5] LC_MONETARY=en_US.UTF-8    LC_MESSAGES=en_US.UTF-8   \n",
       " [7] LC_PAPER=en_US.UTF-8       LC_NAME=C                 \n",
       " [9] LC_ADDRESS=C               LC_TELEPHONE=C            \n",
       "[11] LC_MEASUREMENT=en_US.UTF-8 LC_IDENTIFICATION=C       \n",
       "\n",
       "attached base packages:\n",
       "[1] stats4    stats     graphics  grDevices utils     datasets  methods  \n",
       "[8] base     \n",
       "\n",
       "other attached packages:\n",
       " [1] cytomapper_1.10.1           SingleCellExperiment_1.20.1\n",
       " [3] SummarizedExperiment_1.28.0 Biobase_2.58.0             \n",
       " [5] GenomicRanges_1.50.2        GenomeInfoDb_1.34.9        \n",
       " [7] IRanges_2.32.0              S4Vectors_0.36.2           \n",
       " [9] BiocGenerics_0.44.0         MatrixGenerics_1.10.0      \n",
       "[11] matrixStats_1.0.0           EBImage_4.40.1             \n",
       "[13] cytoviewer_1.1.1           \n",
       "\n",
       "loaded via a namespace (and not attached):\n",
       "  [1] SpatialExperiment_1.8.1   ggbeeswarm_0.7.2         \n",
       "  [3] colorspace_2.1-0          rjson_0.2.21             \n",
       "  [5] ellipsis_0.3.2            IRdisplay_1.1            \n",
       "  [7] scuttle_1.8.4             XVector_0.38.0           \n",
       "  [9] base64enc_0.1-3           fftwtools_0.9-11         \n",
       " [11] remotes_2.4.2.1           fansi_1.0.4              \n",
       " [13] codetools_0.2-19          R.methodsS3_1.8.2        \n",
       " [15] sparseMatrixStats_1.10.0  cachem_1.0.8             \n",
       " [17] IRkernel_1.3.2            jsonlite_1.8.7           \n",
       " [19] png_0.1-8                 R.oo_1.25.0              \n",
       " [21] shinydashboard_0.7.2      shiny_1.7.5              \n",
       " [23] HDF5Array_1.26.0          compiler_4.2.3           \n",
       " [25] dqrng_0.3.1               Matrix_1.6-1             \n",
       " [27] fastmap_1.1.1             limma_3.54.2             \n",
       " [29] cli_3.6.1                 svgPanZoom_0.3.4         \n",
       " [31] later_1.3.1               htmltools_0.5.6          \n",
       " [33] tools_4.2.3               gtable_0.3.4             \n",
       " [35] glue_1.6.2                GenomeInfoDbData_1.2.9   \n",
       " [37] dplyr_1.1.3               Rcpp_1.0.11              \n",
       " [39] jquerylib_0.1.4           raster_3.6-23            \n",
       " [41] vctrs_0.6.3               rhdf5filters_1.10.1      \n",
       " [43] svglite_2.1.1             DelayedMatrixStats_1.20.0\n",
       " [45] beachmat_2.14.2           mime_0.12                \n",
       " [47] miniUI_0.1.1.1            lifecycle_1.0.3          \n",
       " [49] shinycssloaders_1.0.0     terra_1.7-46             \n",
       " [51] edgeR_3.40.2              zlibbioc_1.44.0          \n",
       " [53] scales_1.2.1              colourpicker_1.3.0       \n",
       " [55] promises_1.2.1            parallel_4.2.3           \n",
       " [57] rhdf5_2.42.1              RColorBrewer_1.1-3       \n",
       " [59] yaml_2.3.7                memoise_2.0.1            \n",
       " [61] gridExtra_2.3             ggplot2_3.4.3            \n",
       " [63] sass_0.4.7                tiff_0.1-11              \n",
       " [65] BiocParallel_1.32.6       repr_1.1.6               \n",
       " [67] rlang_1.1.1               pkgconfig_2.0.3          \n",
       " [69] systemfonts_1.0.4         bitops_1.0-7             \n",
       " [71] evaluate_0.21             lattice_0.21-8           \n",
       " [73] archive_1.1.5             fontawesome_0.5.2        \n",
       " [75] Rhdf5lib_1.20.0           htmlwidgets_1.6.2        \n",
       " [77] tidyselect_1.2.0          magrittr_2.0.3           \n",
       " [79] R6_2.5.1                  magick_2.7.5             \n",
       " [81] generics_0.1.3            nnls_1.5                 \n",
       " [83] pbdZMQ_0.3-10             DelayedArray_0.24.0      \n",
       " [85] pillar_1.9.0              abind_1.4-5              \n",
       " [87] RCurl_1.98-1.12           sp_2.0-0                 \n",
       " [89] tibble_3.2.1              crayon_1.5.2             \n",
       " [91] DropletUtils_1.18.1       uuid_1.1-1               \n",
       " [93] utf8_1.2.3                viridis_0.6.4            \n",
       " [95] jpeg_0.1-10               locfit_1.5-9.8           \n",
       " [97] grid_4.2.3                digest_0.6.33            \n",
       " [99] xtable_1.8-4              httpuv_1.6.11            \n",
       "[101] R.utils_2.12.2            munsell_0.5.0            \n",
       "[103] beeswarm_0.4.0            viridisLite_0.4.2        \n",
       "[105] vipor_0.4.5               bslib_0.5.1              "
      ]
     },
     "metadata": {},
     "output_type": "display_data"
    }
   ],
   "source": [
    "sessionInfo()"
   ]
  }
 ],
 "metadata": {
  "kernelspec": {
   "display_name": "R",
   "language": "R",
   "name": "ir"
  },
  "language_info": {
   "codemirror_mode": "r",
   "file_extension": ".r",
   "mimetype": "text/x-r-source",
   "name": "R",
   "pygments_lexer": "r",
   "version": "4.2.3"
  },
  "orig_nbformat": 4
 },
 "nbformat": 4,
 "nbformat_minor": 2
}
